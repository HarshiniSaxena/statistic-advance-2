{
  "nbformat": 4,
  "nbformat_minor": 0,
  "metadata": {
    "colab": {
      "provenance": []
    },
    "kernelspec": {
      "name": "python3",
      "display_name": "Python 3"
    },
    "language_info": {
      "name": "python"
    }
  },
  "cells": [
    {
      "cell_type": "markdown",
      "source": [
        "**Q1- What is a random variable in probability theory?**\n",
        "\n",
        "ANS- In probability theory, a random variable is a variable whose possible values are outcomes of a random experiment.\n",
        "\n",
        "It assigns a numerical value to each possible outcome in a sample space.\n",
        "\n",
        "There are two main types of random variables:\n",
        "\n",
        "**Discrete random variable:** Takes on a finite or countable number of values (e.g., number of heads in 3 coin tosses).\n",
        "\n",
        "**Continuous random variable:** Takes on an infinite number of possible values within a range (e.g., height, time, temperature)\n",
        "\n",
        "Example:\n",
        "\n",
        "If you toss a coin, let\n",
        "\n",
        "X=1 for heads\n",
        "and\n",
        "X=0 for tails\n",
        "\n",
        "X is a random variable"
      ],
      "metadata": {
        "id": "2opC9Bht3_r2"
      }
    },
    {
      "cell_type": "markdown",
      "source": [
        "**Q2- What are the types of random variables?**\n",
        "\n",
        "ANS- Random variables are classified into two main types:\n",
        "\n",
        "**Discrete Random Variable :**\n",
        "\n",
        "Takes specific, countable values.\n",
        "\n",
        "Often represents counts of events.\n",
        "\n",
        "Example: Number of heads when tossing 3 coins (0, 1, 2, 3).\n",
        "\n",
        "**Continuous Random Variable :**\n",
        "\n",
        "Takes any value within a given range, infinite possibilities.\n",
        "\n",
        "Often represents measurements.\n",
        "\n",
        " **Example:** Height of a person, time to complete a task.\n",
        "\n",
        "Sometimes, a mixed random variable is mentioned, which has both discrete and continuous parts"
      ],
      "metadata": {
        "id": "x5Ectd_v3_oZ"
      }
    },
    {
      "cell_type": "markdown",
      "source": [
        "**Q3- Explain the difference between discrete and continuous distributions.**\n",
        "\n",
        "ANS- **Definition:**\n",
        "\n",
        "Discrete: Deals with countable, specific values.\n",
        "\n",
        "Continuous: Deals with infinite values within a range.\n",
        "\n",
        "**Random Variable Type:**\n",
        "\n",
        "Discrete: Discrete random variables.\n",
        "\n",
        "Continuous: Continuous random variables.\n",
        "\n",
        "**Probability Representation:**\n",
        "\n",
        "Discrete: Probability mass function (PMF).\n",
        "\n",
        "Continuous: Probability density function (PDF).\n",
        "\n",
        "**Total Probability:**\n",
        "\n",
        "Discrete: Sum of all probabilities = 1.\n",
        "\n",
        "Continuous: Area under the curve of PDF = 1.\n",
        "\n",
        "**Example:**\n",
        "\n",
        "Discrete: Number of heads in 3 coin tosses.\n",
        "\n",
        "Continuous: Height of students, weight of apples.\n",
        "\n",
        "**Key Difference:**\n",
        "\n",
        "Discrete → countable outcomes.\n",
        "\n",
        "Continuous → infinite outcomes"
      ],
      "metadata": {
        "id": "bqL2N5XA3_lu"
      }
    },
    {
      "cell_type": "markdown",
      "source": [
        "**Q4- What is a binomial distribution, and how is it used in probability?**\n",
        "\n",
        "ANS- A binomial distribution is a discrete probability distribution that describes the number of successes in a fixed number of independent trials of a binary (yes/no) experiment, where each trial has the same probability of success.\n",
        "\n",
        "**Key Characteristics:**\n",
        "\n",
        "Fixed number of trials (\n",
        "𝑛\n",
        ").\n",
        "\n",
        "Two possible outcomes for each trial: success or failure.\n",
        "\n",
        "Constant probability of success (p) in each trial.\n",
        "\n",
        "Independent trials – the outcome of one trial does not affect others\n",
        "\n",
        "**Usage in Probability:**\n",
        "\n",
        "To calculate the probability of a certain number of successes in repeated independent trials.\n",
        "\n",
        "**Examples:**\n",
        "\n",
        "Probability of getting 3 heads in 5 coin tosses.\n",
        "\n",
        "Probability that 7 out of 10 students pass an exam if the passing rate is 70%.\n",
        "\n",
        "It is widely used in quality control, finance, and risk assessment to model success/failure events."
      ],
      "metadata": {
        "id": "ePrsP-LH3_jL"
      }
    },
    {
      "cell_type": "markdown",
      "source": [
        "**Q5- What is the standard normal distribution, and why is it important?**\n",
        "\n",
        "ANS- The standard normal distribution is a special type of continuous probability distribution that is a normal distribution with a mean of 0 and a standard deviation of 1. It is represented by the bell-shaped curve and is symmetric around the mean.\n",
        "\n",
        "**Key Features:**\n",
        "\n",
        " **Mean (\n",
        "𝜇\n",
        ")** = 0 and **Standard Deviation (\n",
        "𝜎\n",
        ")** = 1.\n",
        "\n",
        "**Symmetrical curve:** The left and right halves are mirror images.\n",
        "\n",
        "**Total area under the curve** = 1, representing total probability"
      ],
      "metadata": {
        "id": "NjxAmdQi51uO"
      }
    },
    {
      "cell_type": "markdown",
      "source": [
        "**Q6- What is the Central Limit Theorem (CLT), and why is it critical in statistics?**\n",
        "\n",
        "ANS- The Central Limit Theorem (CLT) is a fundamental concept in statistics which states that the sampling distribution of the sample mean approaches a normal distribution, regardless of the population’s original distribution, as the sample size becomes large (usually\n",
        "𝑛\n",
        "≥\n",
        "30\n",
        "n≥30).\n",
        "\n",
        "**Key Points:**\n",
        "\n",
        "**Applies to Sample Means:** CLT focuses on the mean of random samples from a population.\n",
        "\n",
        "**Large Sample Size:** The larger the sample, the closer the sample mean distribution is to normal.\n",
        "\n",
        "**Population Independence:** Works even if the population is not normally distributed.\n",
        "\n",
        "**Mean and Standard Deviation:**\n",
        "\n",
        "The mean of the sampling distribution equals the population mean (\n",
        "𝜇\n",
        ").\n",
        "\n",
        "The standard deviation of the sampling distribution (called standard error) is\n",
        "𝜎\n",
        "/\n",
        "𝑛\n",
        ", where\n",
        "𝜎\n",
        " is the population standard deviation.\n",
        "\n",
        "** Importance in Statistics:**\n",
        "\n",
        "**Foundation for Inference:** CLT allows using the normal distribution to make probability statements and confidence intervals for sample means.\n",
        "\n",
        "**Simplifies Calculations:** Makes it easier to apply statistical tests even when the population distribution is unknown.\n",
        "\n",
        "**Widely Used:** Essential in hypothesis testing, quality control, and survey analysis.\n"
      ],
      "metadata": {
        "id": "63SZa7ly51rX"
      }
    },
    {
      "cell_type": "markdown",
      "source": [
        "**Q7- What is the significance of confidence intervals in statistical analysis?**\n",
        "\n",
        "ANS- Confidence intervals (CIs) are a key concept in statistics that provide a range of values within which the true population parameter (like the mean or proportion) is likely to lie, with a certain level of confidence (commonly 95% or 99%).\n",
        "\n",
        "**Significance in Statistical Analysis:**\n",
        "\n",
        "**Estimate Precision:** CIs give an idea of how precise a sample estimate is. A narrower interval indicates more precise estimates.\n",
        "\n",
        "**Quantify Uncertainty:** They account for sampling variability, showing the uncertainty inherent in using a sample to infer about a population.\n",
        "\n",
        "**Decision Making:** Helps researchers and analysts make informed decisions by providing a range rather than a single point estimate.\n",
        "\n",
        "**Statistical Significance:** If a confidence interval for a difference between groups does not include zero, it suggests a statistically significant difference.\n",
        "\n",
        "**Generalization:** CIs allow conclusions from sample data to be generalized to the entire population with a known level of confidence.\n",
        "\n",
        "**Example:**\n",
        "\n",
        "If a 95% CI for the average height of students is 160–170 cm, it means we are 95% confident that the true mean height of all students lies within this range.\n",
        "\n",
        "Confidence intervals are crucial because they combine estimates with their reliability, making statistical analysis more informative and trustworthy"
      ],
      "metadata": {
        "id": "UKot_2qE51o9"
      }
    },
    {
      "cell_type": "markdown",
      "source": [
        "**Q8- What is the concept of expected value in a probability distribution?**\n",
        "\n",
        "ANS- **Definition:** The expected value (or mean) is the average or long-term value of a random variable over many trials.\n",
        "\n",
        "**Discrete Random Variable Formula:** Expected value is calculated by multiplying each possible value by its probability and summing them.\n",
        "\n",
        "**Continuous Random Variable:** Expected value is calculated by considering all possible values weighted by their probability density.\n",
        "\n",
        "**Interpretation:** It represents the center of the probability distribution.\n",
        "\n",
        "**Key Point:** The expected value may not correspond to an actual observed outcome; it is a theoretical average.\n",
        "\n",
        "**Example:** For a fair six-sided die, the expected value is 3.5, which is the average outcome over many rolls.\n",
        "\n",
        "**Applications:** Used in decision-making, risk analysis, and predictions in probability and statistics."
      ],
      "metadata": {
        "id": "uUq5S-j051mI"
      }
    },
    {
      "cell_type": "markdown",
      "source": [
        "**Q9- Write a Python program to generate 1000 random numbers from a normal\n",
        "distribution with mean = 50 and standard deviation = 5. Compute its mean and standard\n",
        "deviation using NumPy, and draw a histogram to visualize the distribution.\n",
        "(Include your Python code and output in the code box below.)**"
      ],
      "metadata": {
        "id": "MMb1EC-q51jY"
      }
    },
    {
      "cell_type": "code",
      "execution_count": 1,
      "metadata": {
        "colab": {
          "base_uri": "https://localhost:8080/",
          "height": 507
        },
        "id": "A5hB7P7e32lq",
        "outputId": "7bc9257d-c984-41f8-b3dc-5fe58ca68e48"
      },
      "outputs": [
        {
          "output_type": "stream",
          "name": "stdout",
          "text": [
            "Calculated Mean: 50.10465968058413\n",
            "Calculated Standard Deviation: 5.00595552699428\n"
          ]
        },
        {
          "output_type": "display_data",
          "data": {
            "text/plain": [
              "<Figure size 640x480 with 1 Axes>"
            ],
            "image/png": "[encoded data removed]"
          },
          "metadata": {}
        }
      ],
      "source": [
        "# Import necessary libraries\n",
        "import numpy as np\n",
        "import matplotlib.pyplot as plt\n",
        "\n",
        "# Parameters for the normal distribution\n",
        "mean = 50\n",
        "std_dev = 5\n",
        "num_samples = 1000\n",
        "\n",
        "# Generate 1000 random numbers from the normal distribution\n",
        "data = np.random.normal(mean, std_dev, num_samples)\n",
        "\n",
        "# Compute mean and standard deviation\n",
        "calculated_mean = np.mean(data)\n",
        "calculated_std = np.std(data)\n",
        "\n",
        "# Print the results\n",
        "print(f\"Calculated Mean: {calculated_mean}\")\n",
        "print(f\"Calculated Standard Deviation: {calculated_std}\")\n",
        "\n",
        "# Plot histogram to visualize the distribution\n",
        "plt.hist(data, bins=30, color='skyblue', edgecolor='black')\n",
        "plt.title('Histogram of Normal Distribution')\n",
        "plt.xlabel('Value')\n",
        "plt.ylabel('Frequency')\n",
        "plt.show()\n"
      ]
    },
    {
      "cell_type": "markdown",
      "source": [
        "**Q10- You are working as a data analyst for a retail company. The company has\n",
        "collected daily sales data for 2 years and wants you to identify the overall sales trend.\n",
        "daily_sales = [220, 245, 210, 265, 230, 250, 260, 275, 240, 255,\n",
        " 235, 260, 245, 250, 225, 270, 265, 255, 250, 260]\n",
        "● Explain how you would apply the Central Limit Theorem to estimate the average sales\n",
        "with a 95% confidence interval.\n",
        "● Write the Python code to compute the mean sales and its confidence interval.\n",
        "(Include your Python code and output in the code box below.)**"
      ],
      "metadata": {
        "id": "06HevYj9-m_w"
      }
    },
    {
      "cell_type": "code",
      "source": [
        "import numpy as np\n",
        "from scipy import stats\n",
        "\n",
        "# Daily sales data\n",
        "daily_sales = [220, 245, 210, 265, 230, 250, 260, 275, 240, 255,\n",
        "               235, 260, 245, 250, 225, 270, 265, 255, 250, 260]\n",
        "\n",
        "# Sample size\n",
        "n = len(daily_sales)\n",
        "\n",
        "# Sample mean and standard deviation\n",
        "mean_sales = np.mean(daily_sales)\n",
        "std_sales = np.std(daily_sales, ddof=1)  # Sample standard deviation\n",
        "\n",
        "# 95% confidence interval\n",
        "confidence_level = 0.95\n",
        "alpha = 1 - confidence_level\n",
        "z_score = stats.norm.ppf(1 - alpha/2)  # z-score for 95% confidence\n",
        "\n",
        "margin_of_error = z_score * (std_sales / np.sqrt(n))\n",
        "ci_lower = mean_sales - margin_of_error\n",
        "ci_upper = mean_sales + margin_of_error\n",
        "\n",
        "# Print results\n",
        "print(f\"Mean Daily Sales: {mean_sales:.2f}\")\n",
        "print(f\"95% Confidence Interval: ({ci_lower:.2f}, {ci_upper:.2f})\")\n"
      ],
      "metadata": {
        "colab": {
          "base_uri": "https://localhost:8080/"
        },
        "id": "4_wFbXNl-1mS",
        "outputId": "cc46c6bd-f50e-438e-91c1-60a37cb131cd"
      },
      "execution_count": 2,
      "outputs": [
        {
          "output_type": "stream",
          "name": "stdout",
          "text": [
            "Mean Daily Sales: 248.25\n",
            "95% Confidence Interval: (240.68, 255.82)\n"
          ]
        }
      ]
    }
  ]
}